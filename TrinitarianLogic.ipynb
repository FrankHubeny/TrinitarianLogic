{
 "cells": [
  {
   "cell_type": "markdown",
   "id": "ee6c72c2-a635-487a-8e7d-5156cd166697",
   "metadata": {},
   "source": [
    "# Trinitarian Logic\n",
    "\n",
    "### https://mathesis.readthedocs.io/en/latest/jupyter/"
   ]
  },
  {
   "cell_type": "code",
   "execution_count": 1,
   "id": "76c06a73-59ac-47e9-ac87-fd21398f863d",
   "metadata": {},
   "outputs": [],
   "source": [
    "from IPython.display import display, Math"
   ]
  },
  {
   "cell_type": "code",
   "execution_count": 2,
   "id": "6519fc8b-4504-4e4d-85d6-5fbf3f62b938",
   "metadata": {},
   "outputs": [],
   "source": [
    "from mathesis.deduction.sequent_calculus import SequentTree, rules\n",
    "from mathesis.grammars import BasicGrammar\n",
    "\n",
    "grammar = BasicGrammar()\n",
    "premises = grammar.parse([\"¬A\", \"A∨B\"])\n",
    "conclusions = grammar.parse([\"B\"])"
   ]
  },
  {
   "cell_type": "code",
   "execution_count": 3,
   "id": "162305bb-178d-4b8e-9711-3a86f05d0a23",
   "metadata": {},
   "outputs": [
    {
     "data": {
      "text/latex": [
       "$\\displaystyle \\neg A, A \\lor B \\Rightarrow B$"
      ],
      "text/plain": [
       "<IPython.core.display.Math object>"
      ]
     },
     "execution_count": 3,
     "metadata": {},
     "output_type": "execute_result"
    }
   ],
   "source": [
    "st = SequentTree(premises, conclusions)\n",
    "\n",
    "Math(st[1].sequent.latex())"
   ]
  },
  {
   "cell_type": "code",
   "execution_count": 4,
   "id": "48d62aa7-64e3-460d-b2e8-9ea20fce5e8f",
   "metadata": {},
   "outputs": [
    {
     "name": "stdout",
     "output_type": "stream",
     "text": [
      "¬A 1, A∨B 2 ⇒ B 3\n",
      "└── A∨B 5 ⇒ A 4, B 6\n",
      "\n"
     ]
    }
   ],
   "source": [
    "st.apply(st[1], rules.Negation.Left())\n",
    "print(st.tree())"
   ]
  },
  {
   "cell_type": "code",
   "execution_count": 5,
   "id": "d9f640a2-dbe9-4447-95bb-a01066a00679",
   "metadata": {},
   "outputs": [
    {
     "name": "stdout",
     "output_type": "stream",
     "text": [
      "¬A 1, A∨B 2 ⇒ B 3\n",
      "└── A∨B 5 ⇒ A 4, B 6\n",
      "    ├── A 7 ⇒ A 8, B 9\n",
      "    └── B 10 ⇒ A 11, B 12\n",
      "\n"
     ]
    }
   ],
   "source": [
    "st.apply(st[5], rules.Disjunction.Left())\n",
    "print(st.tree())"
   ]
  },
  {
   "cell_type": "code",
   "execution_count": 6,
   "id": "07a06483-f1fb-4064-b3aa-67e7664b4c61",
   "metadata": {},
   "outputs": [
    {
     "name": "stdout",
     "output_type": "stream",
     "text": [
      "¬A 1, A∨B 2 ⇒ B 3\n",
      "└── A∨B 5 ⇒ A 4, B 6\n",
      "    ├── A 7 ⇒ A 8, B 9\n",
      "    └── B 10 ⇒ A 11, B 12\n",
      "        └── B 13 ⇒ B 14\n",
      "\n"
     ]
    }
   ],
   "source": [
    "st.apply(st[11], rules.Weakening.Right())\n",
    "print(st.tree())"
   ]
  },
  {
   "cell_type": "code",
   "execution_count": 7,
   "id": "de43e8c5-7fc9-4e17-9684-c568c374acd5",
   "metadata": {},
   "outputs": [
    {
     "name": "stdout",
     "output_type": "stream",
     "text": [
      "\\begin{prooftree}\n",
      "\\AxiomC{$A \\Rightarrow A, B$}\n",
      "\\AxiomC{$B \\Rightarrow B$}\n",
      "\\UnaryInfC{$B \\Rightarrow A, B$}\n",
      "\\BinaryInfC{$A \\lor B \\Rightarrow A, B$}\n",
      "\\UnaryInfC{$\\neg A, A \\lor B \\Rightarrow B$}\n",
      "\\end{prooftree}\n"
     ]
    }
   ],
   "source": [
    "print(st.latex())"
   ]
  },
  {
   "cell_type": "code",
   "execution_count": 8,
   "id": "2196eee4-a780-4187-a5b1-cf5cc5307484",
   "metadata": {},
   "outputs": [
    {
     "name": "stdout",
     "output_type": "stream",
     "text": [
      "A∨B 1, B→C 2 ⇒ A∨C 3\n",
      "\n",
      "A∨B 1, B→C 2 ⇒ A∨C 3\n",
      "├── A 4, A∨B 5, B→C 6 ⇒ A∨C 7\n",
      "└── B 8, A∨B 9, B→C 10 ⇒ A∨C 11\n",
      "\n",
      "A∨B 1, B→C 2 ⇒ A∨C 3\n",
      "├── A 4, A∨B 5, B→C 6 ⇒ A∨C 7\n",
      "│   └── A 13, A∨B 14, B→C 15 ⇒ A 12\n",
      "└── B 8, A∨B 9, B→C 10 ⇒ A∨C 11\n",
      "\n",
      "A∨B 1, B→C 2 ⇒ A∨C 3\n",
      "├── A 4, A∨B 5, B→C 6 ⇒ A∨C 7\n",
      "│   └── A 13, A∨B 14, B→C 15 ⇒ A 12\n",
      "└── B 8, A∨B 9, B→C 10 ⇒ A∨C 11\n",
      "    └── C 16, B 17, A∨B 18, B→C 19 ⇒ A∨C 20\n",
      "\n",
      "A∨B 1, B→C 2 ⇒ A∨C 3\n",
      "├── A 4, A∨B 5, B→C 6 ⇒ A∨C 7\n",
      "│   └── A 13, A∨B 14, B→C 15 ⇒ A 12\n",
      "└── B 8, A∨B 9, B→C 10 ⇒ A∨C 11\n",
      "    └── C 16, B 17, A∨B 18, B→C 19 ⇒ A∨C 20\n",
      "        └── C 22, B 23, A∨B 24, B→C 25 ⇒ C 21\n",
      "\n"
     ]
    }
   ],
   "source": [
    "from mathesis.grammars import BasicGrammar\n",
    "from mathesis.deduction.natural_deduction import NDTree, rules\n",
    "\n",
    "grammar = BasicGrammar()\n",
    "\n",
    "premises = grammar.parse([\"A∨B\", \"B→C\"])\n",
    "conclusion = grammar.parse(\"A∨C\")\n",
    "deriv = NDTree(premises, conclusion)\n",
    "print(deriv.tree())\n",
    "\n",
    "deriv.apply(deriv[1], rules.Disjunction.Elim())\n",
    "print(deriv.tree())\n",
    "\n",
    "deriv.apply(deriv[7], rules.Disjunction.Intro(\"left\"))\n",
    "print(deriv.tree())\n",
    "\n",
    "deriv.apply(deriv[10], rules.Conditional.Elim())\n",
    "print(deriv.tree())\n",
    "\n",
    "deriv.apply(deriv[20], rules.Disjunction.Intro(\"right\"))\n",
    "print(deriv.tree())"
   ]
  },
  {
   "cell_type": "code",
   "execution_count": null,
   "id": "e77bfe20-d27d-4d38-b0d6-c98a95b186c5",
   "metadata": {},
   "outputs": [],
   "source": []
  }
 ],
 "metadata": {
  "kernelspec": {
   "display_name": "Python 3 (ipykernel)",
   "language": "python",
   "name": "python3"
  },
  "language_info": {
   "codemirror_mode": {
    "name": "ipython",
    "version": 3
   },
   "file_extension": ".py",
   "mimetype": "text/x-python",
   "name": "python",
   "nbconvert_exporter": "python",
   "pygments_lexer": "ipython3",
   "version": "3.12.1"
  }
 },
 "nbformat": 4,
 "nbformat_minor": 5
}
